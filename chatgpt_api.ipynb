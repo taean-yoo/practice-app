{
 "cells": [
  {
   "cell_type": "markdown",
   "id": "2e05f009-7085-4d77-90bc-e2a30befcb29",
   "metadata": {},
   "source": [
    "# openAI API 설치"
   ]
  },
  {
   "cell_type": "code",
   "execution_count": 7,
   "id": "3c1f81ec-810f-4ccd-8e7f-f4b0d13db7e2",
   "metadata": {},
   "outputs": [
    {
     "name": "stdout",
     "output_type": "stream",
     "text": [
      "Requirement already satisfied: openai in c:\\users\\82103\\streamlit\\app\\.venv\\lib\\site-packages (0.28.0)\n",
      "Requirement already satisfied: requests>=2.20 in c:\\users\\82103\\streamlit\\app\\.venv\\lib\\site-packages (from openai) (2.32.3)\n",
      "Requirement already satisfied: tqdm in c:\\users\\82103\\streamlit\\app\\.venv\\lib\\site-packages (from openai) (4.66.4)\n",
      "Requirement already satisfied: aiohttp in c:\\users\\82103\\streamlit\\app\\.venv\\lib\\site-packages (from openai) (3.9.5)\n",
      "Requirement already satisfied: charset-normalizer<4,>=2 in c:\\users\\82103\\streamlit\\app\\.venv\\lib\\site-packages (from requests>=2.20->openai) (3.3.2)\n",
      "Requirement already satisfied: idna<4,>=2.5 in c:\\users\\82103\\streamlit\\app\\.venv\\lib\\site-packages (from requests>=2.20->openai) (3.7)\n",
      "Requirement already satisfied: urllib3<3,>=1.21.1 in c:\\users\\82103\\streamlit\\app\\.venv\\lib\\site-packages (from requests>=2.20->openai) (2.2.2)\n",
      "Requirement already satisfied: certifi>=2017.4.17 in c:\\users\\82103\\streamlit\\app\\.venv\\lib\\site-packages (from requests>=2.20->openai) (2024.7.4)\n",
      "Requirement already satisfied: aiosignal>=1.1.2 in c:\\users\\82103\\streamlit\\app\\.venv\\lib\\site-packages (from aiohttp->openai) (1.3.1)\n",
      "Requirement already satisfied: attrs>=17.3.0 in c:\\users\\82103\\streamlit\\app\\.venv\\lib\\site-packages (from aiohttp->openai) (23.2.0)\n",
      "Requirement already satisfied: frozenlist>=1.1.1 in c:\\users\\82103\\streamlit\\app\\.venv\\lib\\site-packages (from aiohttp->openai) (1.4.1)\n",
      "Requirement already satisfied: multidict<7.0,>=4.5 in c:\\users\\82103\\streamlit\\app\\.venv\\lib\\site-packages (from aiohttp->openai) (6.0.5)\n",
      "Requirement already satisfied: yarl<2.0,>=1.0 in c:\\users\\82103\\streamlit\\app\\.venv\\lib\\site-packages (from aiohttp->openai) (1.9.4)\n",
      "Requirement already satisfied: colorama in c:\\users\\82103\\streamlit\\app\\.venv\\lib\\site-packages (from tqdm->openai) (0.4.6)\n"
     ]
    },
    {
     "name": "stderr",
     "output_type": "stream",
     "text": [
      "\n",
      "[notice] A new release of pip is available: 23.2.1 -> 24.1.2\n",
      "[notice] To update, run: python.exe -m pip install --upgrade pip\n"
     ]
    }
   ],
   "source": [
    "!pip install openai"
   ]
  },
  {
   "cell_type": "code",
   "execution_count": 8,
   "id": "1a939c57-5247-468d-9f4c-659ecbe650f4",
   "metadata": {},
   "outputs": [
    {
     "name": "stdout",
     "output_type": "stream",
     "text": [
      "Requirement already satisfied: python-dotenv in c:\\users\\82103\\streamlit\\app\\.venv\\lib\\site-packages (1.0.1)\n"
     ]
    },
    {
     "name": "stderr",
     "output_type": "stream",
     "text": [
      "\n",
      "[notice] A new release of pip is available: 23.2.1 -> 24.1.2\n",
      "[notice] To update, run: python.exe -m pip install --upgrade pip\n"
     ]
    }
   ],
   "source": [
    "!pip install python-dotenv"
   ]
  },
  {
   "cell_type": "code",
   "execution_count": 9,
   "id": "f11790c6-da61-4d6b-8508-57b479d9e67c",
   "metadata": {},
   "outputs": [],
   "source": [
    "import openai"
   ]
  },
  {
   "cell_type": "code",
   "execution_count": 10,
   "id": "1615be83-917f-4b91-8f6b-0c1a6e5692e3",
   "metadata": {},
   "outputs": [],
   "source": [
    "import os"
   ]
  },
  {
   "cell_type": "code",
   "execution_count": 11,
   "id": "10f1e149-d86e-4439-822f-18c93d7b0b75",
   "metadata": {},
   "outputs": [],
   "source": [
    "openai.api_key = os.environ.get(\"OPENAI_API_KEY\")"
   ]
  },
  {
   "cell_type": "code",
   "execution_count": 12,
   "id": "25fafb7e-a254-4457-8f28-4aaa3515d6ec",
   "metadata": {},
   "outputs": [
    {
     "name": "stdout",
     "output_type": "stream",
     "text": [
      "sk-None-SwNCWV71rRHPHjH6QC9aT3BlbkFJwMZxv2OA0Ly2rPA5MCfL\n"
     ]
    }
   ],
   "source": [
    "print(os.environ.get(\"OPENAI_API_KEY\"))"
   ]
  },
  {
   "cell_type": "markdown",
   "id": "7bbd1162-5ccf-4410-b0e5-6f684035d1ec",
   "metadata": {},
   "source": [
    "# ChatCompletion API"
   ]
  },
  {
   "cell_type": "markdown",
   "id": "aacd0dd3-7d21-457f-b4a1-a0d72d72c5ac",
   "metadata": {},
   "source": [
    "### 기본 사용법"
   ]
  },
  {
   "cell_type": "code",
   "execution_count": 13,
   "id": "81cdf686-381e-4b15-a64d-ed303dd96bc6",
   "metadata": {},
   "outputs": [
    {
     "data": {
      "text/plain": [
       "False"
      ]
     },
     "execution_count": 13,
     "metadata": {},
     "output_type": "execute_result"
    }
   ],
   "source": [
    "from dotenv import load_dotenv\n",
    "load_dotenv()"
   ]
  },
  {
   "cell_type": "code",
   "execution_count": 14,
   "id": "d529eab3-cdd3-405a-86e8-126161eeca92",
   "metadata": {},
   "outputs": [
    {
     "ename": "ImportError",
     "evalue": "cannot import name 'OpenAI' from 'openai' (C:\\Users\\82103\\streamlit\\app\\.venv\\Lib\\site-packages\\openai\\__init__.py)",
     "output_type": "error",
     "traceback": [
      "\u001b[1;31m---------------------------------------------------------------------------\u001b[0m",
      "\u001b[1;31mImportError\u001b[0m                               Traceback (most recent call last)",
      "Cell \u001b[1;32mIn[14], line 1\u001b[0m\n\u001b[1;32m----> 1\u001b[0m \u001b[38;5;28;01mfrom\u001b[39;00m \u001b[38;5;21;01mopenai\u001b[39;00m \u001b[38;5;28;01mimport\u001b[39;00m OpenAI\n",
      "\u001b[1;31mImportError\u001b[0m: cannot import name 'OpenAI' from 'openai' (C:\\Users\\82103\\streamlit\\app\\.venv\\Lib\\site-packages\\openai\\__init__.py)"
     ]
    }
   ],
   "source": [
    "from openai import OpenAI"
   ]
  },
  {
   "cell_type": "code",
   "execution_count": 15,
   "id": "81f7847b-aadb-47e8-bd81-a8fc9c9e5eaf",
   "metadata": {},
   "outputs": [
    {
     "ename": "NameError",
     "evalue": "name 'OpenAI' is not defined",
     "output_type": "error",
     "traceback": [
      "\u001b[1;31m---------------------------------------------------------------------------\u001b[0m",
      "\u001b[1;31mNameError\u001b[0m                                 Traceback (most recent call last)",
      "Cell \u001b[1;32mIn[15], line 1\u001b[0m\n\u001b[1;32m----> 1\u001b[0m client \u001b[38;5;241m=\u001b[39m \u001b[43mOpenAI\u001b[49m()\n\u001b[0;32m      2\u001b[0m client\n",
      "\u001b[1;31mNameError\u001b[0m: name 'OpenAI' is not defined"
     ]
    }
   ],
   "source": [
    "client = OpenAI()\n",
    "client"
   ]
  },
  {
   "cell_type": "code",
   "execution_count": 16,
   "id": "05dee026-8f34-45b5-a811-4cea6a40c4e2",
   "metadata": {},
   "outputs": [
    {
     "ename": "NameError",
     "evalue": "name 'client' is not defined",
     "output_type": "error",
     "traceback": [
      "\u001b[1;31m---------------------------------------------------------------------------\u001b[0m",
      "\u001b[1;31mNameError\u001b[0m                                 Traceback (most recent call last)",
      "Cell \u001b[1;32mIn[16], line 1\u001b[0m\n\u001b[1;32m----> 1\u001b[0m response \u001b[38;5;241m=\u001b[39m \u001b[43mclient\u001b[49m\u001b[38;5;241m.\u001b[39mchat\u001b[38;5;241m.\u001b[39mcompletions\u001b[38;5;241m.\u001b[39mcreate(\n\u001b[0;32m      2\u001b[0m     model\u001b[38;5;241m=\u001b[39m\u001b[38;5;124m\"\u001b[39m\u001b[38;5;124mgpt-4o\u001b[39m\u001b[38;5;124m\"\u001b[39m,\n\u001b[0;32m      3\u001b[0m     messages\u001b[38;5;241m=\u001b[39m[\n\u001b[0;32m      4\u001b[0m         {\u001b[38;5;124m\"\u001b[39m\u001b[38;5;124mrole\u001b[39m\u001b[38;5;124m\"\u001b[39m: \u001b[38;5;124m\"\u001b[39m\u001b[38;5;124muser\u001b[39m\u001b[38;5;124m\"\u001b[39m, \u001b[38;5;124m\"\u001b[39m\u001b[38;5;124mcontent\u001b[39m\u001b[38;5;124m\"\u001b[39m: \u001b[38;5;124m\"\u001b[39m\u001b[38;5;124m안녕하세요!\u001b[39m\u001b[38;5;124m\"\u001b[39m}\n\u001b[0;32m      5\u001b[0m     ]\n\u001b[0;32m      6\u001b[0m )\n",
      "\u001b[1;31mNameError\u001b[0m: name 'client' is not defined"
     ]
    }
   ],
   "source": [
    "response = client.chat.completions.create(\n",
    "    model=\"gpt-4o\",\n",
    "    messages=[\n",
    "        {\"role\": \"user\", \"content\": \"안녕하세요!\"}\n",
    "    ]\n",
    ")"
   ]
  },
  {
   "cell_type": "code",
   "execution_count": 17,
   "id": "b3efdcd7-994b-40d6-ba89-50f770cb125f",
   "metadata": {},
   "outputs": [
    {
     "name": "stdout",
     "output_type": "stream",
     "text": [
      "{\n",
      "  \"id\": \"chatcmpl-9oDWEAVcydxeYB19Vl0YfEKgPfPMp\",\n",
      "  \"object\": \"chat.completion\",\n",
      "  \"created\": 1721755394,\n",
      "  \"model\": \"gpt-3.5-turbo-0125\",\n",
      "  \"choices\": [\n",
      "    {\n",
      "      \"index\": 0,\n",
      "      \"message\": {\n",
      "        \"role\": \"assistant\",\n",
      "        \"content\": \"\\uc548\\ub155\\ud558\\uc138\\uc694! \\ub9cc\\ub098\\uc11c \\ubc18\\uac00\\uc6cc\\uc694. \\ubb34\\uc5c7\\uc744 \\ub3c4\\uc640\\ub4dc\\ub9b4\\uae4c\\uc694?\"\n",
      "      },\n",
      "      \"logprobs\": null,\n",
      "      \"finish_reason\": \"stop\"\n",
      "    }\n",
      "  ],\n",
      "  \"usage\": {\n",
      "    \"prompt_tokens\": 13,\n",
      "    \"completion_tokens\": 30,\n",
      "    \"total_tokens\": 43\n",
      "  },\n",
      "  \"system_fingerprint\": null\n",
      "}\n"
     ]
    }
   ],
   "source": [
    "response = openai.ChatCompletion.create(\n",
    "    model=\"gpt-3.5-turbo\",\n",
    "    messages=[\n",
    "        {\"role\": \"user\", \"content\": \"안녕하세요!\"}\n",
    "    ]\n",
    ")\n",
    "print(response)"
   ]
  },
  {
   "cell_type": "code",
   "execution_count": 40,
   "id": "8931befc-023f-4e05-890c-5ecf2e214aa2",
   "metadata": {},
   "outputs": [
    {
     "data": {
      "text/plain": [
       "ChatCompletion(id='chatcmpl-9oCkrcbADmsixgF3nJW7gTa9Jc4H3', choices=[Choice(finish_reason='stop', index=0, logprobs=None, message=ChatCompletionMessage(content='안녕하세요! 어떻게 도와드릴까요?', role='assistant', function_call=None, tool_calls=None))], created=1721752457, model='gpt-4o-2024-05-13', object='chat.completion', service_tier=None, system_fingerprint='fp_400f27fa1f', usage=CompletionUsage(completion_tokens=10, prompt_tokens=10, total_tokens=20))"
      ]
     },
     "execution_count": 40,
     "metadata": {},
     "output_type": "execute_result"
    }
   ],
   "source": [
    "response"
   ]
  },
  {
   "cell_type": "code",
   "execution_count": 43,
   "id": "8863e728-b501-4713-91ab-30fe260f21c1",
   "metadata": {},
   "outputs": [
    {
     "name": "stdout",
     "output_type": "stream",
     "text": [
      "안녕하세요! 어떻게 도와드릴까요?\n"
     ]
    }
   ],
   "source": [
    "generated_text = response.choices[0].message.content\n",
    "print(generated_text)"
   ]
  },
  {
   "cell_type": "markdown",
   "id": "2219e24c-169e-4b9b-a8b7-0af751c5851a",
   "metadata": {},
   "source": [
    "### model 파라미터"
   ]
  },
  {
   "cell_type": "code",
   "execution_count": 45,
   "id": "d093bc31-94ae-49c8-8667-0bf80e0c097c",
   "metadata": {},
   "outputs": [
    {
     "name": "stdout",
     "output_type": "stream",
     "text": [
      "물론입니다! \"지피티\"로 삼행시를 지어볼게요.\n",
      "\n",
      "**지**: 지금 이 순간,\n",
      "**피**: 핑계 없이,\n",
      "**티**: 티 없이 맑은 마음으로.\n",
      "\n",
      "어떻게 생각하세요?\n"
     ]
    }
   ],
   "source": [
    "response = client.chat.completions.create(\n",
    "    model=\"gpt-4o\",\n",
    "    messages=[\n",
    "        {\"role\": \"user\", \"content\": \"지피티로 삼행시 지어줘!\"}\n",
    "    ]\n",
    ")\n",
    "generated_text = response.choices[0].message.content\n",
    "print(generated_text)"
   ]
  },
  {
   "cell_type": "code",
   "execution_count": 48,
   "id": "69a2fadc-21c7-4e90-8220-a317627203d8",
   "metadata": {},
   "outputs": [
    {
     "name": "stdout",
     "output_type": "stream",
     "text": [
      "중식을 좋아하시는군요! 여러 가지 맛있는 선택이 있는데요, 기분이나 상황에 따라 다르게 추천드릴 수 있습니다. 오늘 같은 날은 어떠신가요? \n",
      "\n",
      "1. **탕수육** - 바삭한 튀김에 새콤달콤한 소스가 매력적이에요. 소스는 따로 주는 것도 좋고, 바로 부어주는 것도 맛있어요.\n",
      "2. **짜장면** - 짜장의 진한 맛과 면의 쫄깃한 식감이 일품이죠. \n",
      "3. **짬뽕** - 매콤하면서도 시원한 국물이 당기는 날이라면 짬뽕이 최고죠. 해산물이 들어간 국물이 일품입니다.\n",
      "4. **마파두부** - 매콤하고 부드러운 두부가 특징인 이 요리는 밥과 함께 먹으면 아주 맛있어요.\n",
      "5. **양장피** - 여러 가지 재료가 들어간 양장피는 다양한 맛을 즐길 수 있어서 좋습니다.\n",
      "6. **깐풍기** - 매콤한 소스를 입힌 닭고기로, 밥반찬이나 안주로도 좋습니다.\n",
      "\n",
      "어떤 음식이 가장 당기시나요? 오늘은 어떤 중식을 드셔도 맛있을 것 같습니다! 😊\n"
     ]
    }
   ],
   "source": [
    "response = client.chat.completions.create(\n",
    "    model=\"gpt-4o\",\n",
    "    messages=[\n",
    "        {\"role\": \"user\", \"content\": \"점메추해줘\"},\n",
    "        {\"role\": \"assistant\", \"content\": generated_text},\n",
    "        {\"role\": \"user\", \"content\": \"중식\"}\n",
    "    ]\n",
    ")\n",
    "generated_text = response.choices[0].message.content\n",
    "print(generated_text)"
   ]
  },
  {
   "cell_type": "markdown",
   "id": "4ef5ef58-ef4b-4e12-a09d-c1eef9030eb5",
   "metadata": {},
   "source": [
    "### system message"
   ]
  },
  {
   "cell_type": "code",
   "execution_count": 49,
   "id": "55c82a51-2fa0-4d25-8b87-a96373126845",
   "metadata": {},
   "outputs": [
    {
     "name": "stdout",
     "output_type": "stream",
     "text": [
      "오잉~ 내일 점심메? 쌀국수 어때야? 요즘 날씨가 쌀쌀허니따 따뜻한 국물이 속을 꽉 채우지 않겄어? 아니면 짜장면도 좋구만유~ 뭐든 맛있게 묵어부러~\n"
     ]
    }
   ],
   "source": [
    "response = client.chat.completions.create(\n",
    "    model=\"gpt-4o\",\n",
    "    messages=[\n",
    "        {\"role\": \"system\", \"content\": \"당신은 전라도 사투리를 구사하는 아저씨입니다.\"},\n",
    "        {\"role\": \"user\", \"content\": \"내일 점심은 뭘 먹는게 좋을까?\"},\n",
    "    ]\n",
    ")\n",
    "generated_text = response.choices[0].message.content\n",
    "print(generated_text)"
   ]
  },
  {
   "cell_type": "code",
   "execution_count": 67,
   "id": "9d6504bc-a130-479b-b427-7d7a8f5de746",
   "metadata": {},
   "outputs": [],
   "source": [
    "def request_chat_completion(\n",
    "    prompt, \n",
    "    system_role=\"당신은 유용한 도우미입니다.\", \n",
    "    model=\"gpt-4o\",\n",
    "    stream=False\n",
    "):\n",
    "    messages = [\n",
    "        {\"role\": \"system\", \"content\": system_role},\n",
    "        {\"role\": \"user\", \"content\": prompt}\n",
    "    ]\n",
    "    response = client.chat.completions.create(\n",
    "        model=model,\n",
    "        messages=messages,\n",
    "        stream=stream\n",
    "    )\n",
    "    return response"
   ]
  },
  {
   "cell_type": "code",
   "execution_count": 73,
   "id": "478bb6b5-58cf-45b1-abb8-2d04fbbb3a3f",
   "metadata": {},
   "outputs": [],
   "source": [
    "def print_streaming_response(response):\n",
    "    for chunk in response:\n",
    "        content = chunk.choices[0].delta.content\n",
    "        if isinstance(content, str):\n",
    "            print(content, end=\"\")\n",
    "        else:\n",
    "            break"
   ]
  },
  {
   "cell_type": "code",
   "execution_count": 75,
   "id": "5ca9ceca-2731-4325-9a17-b7c07ada32c4",
   "metadata": {},
   "outputs": [
    {
     "name": "stdout",
     "output_type": "stream",
     "text": [
      "점심 메뉴를 추천해드릴게요! 다음 중 하나를 고려해보세요:\n",
      "\n",
      "1. **김치찌개**: 따끈하고 매콤한 국물이 있는 김치찌개는 밥과 함께 먹기에 아주 좋죠.\n",
      "2. **불고기 덮밥**: 달콤하고 짭짤한 불고기를 밥 위에 얹어 먹는 덮밥은 간단하면서도 맛있습니다.\n",
      "3. **비빔밥**: 다양한 채소와 고기를 고추장과 함께 비벼 먹는 비빔밥은 맛도 좋고 영양도 풍부해요.\n",
      "4. **삼겹살**: 친구나 가족과 함께라면 삼겹살도 좋은 선택이 될 수 있습니다. 상추에 싸서 먹으면 더욱 맛있죠.\n",
      "5. **김밥**: 간단하게 먹을 수 있는 김밥도 좋습니다. 다양한 재료가 들어 있어서 질리지 않아요.\n",
      "\n",
      "오늘 어떤 메뉴가 끌리시나요?"
     ]
    }
   ],
   "source": [
    "response=request_chat_completion(\"점메추해줘\", stream=True)\n",
    "print_streaming_response(response)"
   ]
  }
 ],
 "metadata": {
  "kernelspec": {
   "display_name": "Python 3 (ipykernel)",
   "language": "python",
   "name": "python3"
  },
  "language_info": {
   "codemirror_mode": {
    "name": "ipython",
    "version": 3
   },
   "file_extension": ".py",
   "mimetype": "text/x-python",
   "name": "python",
   "nbconvert_exporter": "python",
   "pygments_lexer": "ipython3",
   "version": "3.12.3"
  }
 },
 "nbformat": 4,
 "nbformat_minor": 5
}
