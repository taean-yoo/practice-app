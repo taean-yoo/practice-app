{
 "cells": [
  {
   "cell_type": "code",
   "execution_count": 14,
   "id": "8819d296-2196-4983-97e8-d3b58b1a455a",
   "metadata": {},
   "outputs": [
    {
     "name": "stdout",
     "output_type": "stream",
     "text": [
      "Requirement already satisfied: openai in c:\\users\\82103\\streamlit\\app\\.venv\\lib\\site-packages (0.28.0)\n",
      "Requirement already satisfied: requests>=2.20 in c:\\users\\82103\\streamlit\\app\\.venv\\lib\\site-packages (from openai) (2.32.3)\n",
      "Requirement already satisfied: tqdm in c:\\users\\82103\\streamlit\\app\\.venv\\lib\\site-packages (from openai) (4.66.4)\n",
      "Requirement already satisfied: aiohttp in c:\\users\\82103\\streamlit\\app\\.venv\\lib\\site-packages (from openai) (3.9.5)\n",
      "Requirement already satisfied: charset-normalizer<4,>=2 in c:\\users\\82103\\streamlit\\app\\.venv\\lib\\site-packages (from requests>=2.20->openai) (3.3.2)\n",
      "Requirement already satisfied: idna<4,>=2.5 in c:\\users\\82103\\streamlit\\app\\.venv\\lib\\site-packages (from requests>=2.20->openai) (3.7)\n",
      "Requirement already satisfied: urllib3<3,>=1.21.1 in c:\\users\\82103\\streamlit\\app\\.venv\\lib\\site-packages (from requests>=2.20->openai) (2.2.2)\n",
      "Requirement already satisfied: certifi>=2017.4.17 in c:\\users\\82103\\streamlit\\app\\.venv\\lib\\site-packages (from requests>=2.20->openai) (2024.7.4)\n",
      "Requirement already satisfied: aiosignal>=1.1.2 in c:\\users\\82103\\streamlit\\app\\.venv\\lib\\site-packages (from aiohttp->openai) (1.3.1)\n",
      "Requirement already satisfied: attrs>=17.3.0 in c:\\users\\82103\\streamlit\\app\\.venv\\lib\\site-packages (from aiohttp->openai) (23.2.0)\n",
      "Requirement already satisfied: frozenlist>=1.1.1 in c:\\users\\82103\\streamlit\\app\\.venv\\lib\\site-packages (from aiohttp->openai) (1.4.1)\n",
      "Requirement already satisfied: multidict<7.0,>=4.5 in c:\\users\\82103\\streamlit\\app\\.venv\\lib\\site-packages (from aiohttp->openai) (6.0.5)\n",
      "Requirement already satisfied: yarl<2.0,>=1.0 in c:\\users\\82103\\streamlit\\app\\.venv\\lib\\site-packages (from aiohttp->openai) (1.9.4)\n",
      "Requirement already satisfied: colorama in c:\\users\\82103\\streamlit\\app\\.venv\\lib\\site-packages (from tqdm->openai) (0.4.6)\n"
     ]
    },
    {
     "name": "stderr",
     "output_type": "stream",
     "text": [
      "\n",
      "[notice] A new release of pip is available: 23.2.1 -> 24.1.2\n",
      "[notice] To update, run: python.exe -m pip install --upgrade pip\n"
     ]
    },
    {
     "name": "stdout",
     "output_type": "stream",
     "text": [
      "Requirement already satisfied: python-dotenv in c:\\users\\82103\\streamlit\\app\\.venv\\lib\\site-packages (1.0.1)\n"
     ]
    },
    {
     "name": "stderr",
     "output_type": "stream",
     "text": [
      "\n",
      "[notice] A new release of pip is available: 23.2.1 -> 24.1.2\n",
      "[notice] To update, run: python.exe -m pip install --upgrade pip\n"
     ]
    }
   ],
   "source": [
    "!pip install openai\n",
    "!pip install python-dotenv"
   ]
  },
  {
   "cell_type": "code",
   "execution_count": 4,
   "id": "a98d71b1-3a49-43ec-b1e4-84fe2bfc093d",
   "metadata": {},
   "outputs": [],
   "source": [
    "def request_chat_completion(\n",
    "    prompt, \n",
    "    system_role=\"당신은 유용한 도우미입니다.\", \n",
    "    model=\"gpt-4o\",\n",
    "    stream=False\n",
    "):\n",
    "    messages = [\n",
    "        {\"role\": \"system\", \"content\": system_role},\n",
    "        {\"role\": \"user\", \"content\": prompt}\n",
    "    ]\n",
    "    response = openai.ChatCompletion.create(\n",
    "        model=model,\n",
    "        messages=messages,\n",
    "        stream=stream\n",
    "    )\n",
    "    return response"
   ]
  },
  {
   "cell_type": "code",
   "execution_count": null,
   "id": "0089aa08-7d14-47c6-b003-6513e492914d",
   "metadata": {},
   "outputs": [],
   "source": [
    "response = openai.ChatCompletion.create(\n",
    "    model=\"gpt-3.5-turbo\",\n",
    "    messages=[\n",
    "        {\"role\": \"user\", \"content\": \"안녕하세요!\"}\n",
    "    ]\n",
    ")\n",
    "print(response)"
   ]
  },
  {
   "cell_type": "code",
   "execution_count": 9,
   "id": "84d5f3b3-8044-4447-ae83-12b539f3796a",
   "metadata": {},
   "outputs": [],
   "source": [
    "def print_streaming_response(response):\n",
    "    for chunk in response:\n",
    "        delta = chunk.choices[0][\"delta\"]\n",
    "        if \"content\" in delta:\n",
    "            print(delta[\"content\"], end=\"\")\n",
    "        else:\n",
    "            break"
   ]
  },
  {
   "cell_type": "code",
   "execution_count": 10,
   "id": "43bd8580-8bb5-4957-87f6-503205acebaa",
   "metadata": {},
   "outputs": [
    {
     "name": "stdout",
     "output_type": "stream",
     "text": [
      "오늘 드실 점심 메뉴를 추천해달라는 말씀이시군요! 평소에 어떤 음식을 좋아하시나요, 아니면 기분에 따라 뭔가 색다른 걸 시도해보고 싶으신가요? 어떤 종류의 음식을 원하는지 말씀해주시면 더 정확하게 추천해드릴 수 있습니다. 예를 들어 한식, 중식, 일식, 양식 중 무엇을 선호하시나요?"
     ]
    }
   ],
   "source": [
    "response=request_chat_completion(\"점메추해줘\", stream=True)\n",
    "print_streaming_response(response)"
   ]
  },
  {
   "cell_type": "markdown",
   "id": "eac637c8-0ae4-4ce1-9f33-bf2de8733ce7",
   "metadata": {},
   "source": [
    "### 프롬프트 엔지니어링"
   ]
  },
  {
   "cell_type": "code",
   "execution_count": 12,
   "id": "89326891-e8ff-4576-a91c-5addbd565d49",
   "metadata": {},
   "outputs": [
    {
     "name": "stdout",
     "output_type": "stream",
     "text": [
      "물론, 여기 3가지 카피 아이디어를 제안할게요:\n",
      "\n",
      "1. **\"일상의 작은 럭셔리, 카누와 함께하세요!🍃✨ #카누 #프리미엄커피 #커피타임\"**\n",
      "   - 포인트: 카누 커피믹스를 마시는 시간을 특별하게 느끼도록 유도합니다.\n",
      "\n",
      "2. **\"바쁜 하루 속, 한 모금의 여유. 카누 한 잔이면 충분해요.☕️💼 #카누 #더블에스프레소 #한잔의여유\"**\n",
      "   - 포인트: 일과 중에도 간편하고 빠르게 즐길 수 있는 카누 커피의 장점을 강조합니다.\n",
      "\n",
      "3. **\"어디서든 쉽게, 언제든 진하게! 여러분의 커피 라이프, #카누가책임진다!🌍💚 #KanuEverywhere #InstantEnjoyment\"**\n",
      "   - 포인트: 카누의 간편함과 어디서나 즐길 수 있는 편리함을 어필합니다. \n",
      "\n",
      "각 카피는 시각적 요소(이미지, 동영상)와 함께 더욱 매력적으로 표현될 수 있습니다. 많은 성공을 기원합니다!"
     ]
    }
   ],
   "source": [
    "prompt = \"'카누'라는 커피믹스 브랜드의 SNS 마케팅을 위한 카피를 3개 생성해줘\"\n",
    "system_role=\"당신은 전문 카피라이터입니다.\"\n",
    "response = request_chat_completion(prompt, stream=True)\n",
    "print_streaming_response(response)"
   ]
  },
  {
   "cell_type": "code",
   "execution_count": 13,
   "id": "f72d9c7a-777a-4efc-92c1-0057957c0d74",
   "metadata": {},
   "outputs": [],
   "source": [
    "prompt_template = \"\"\"\n",
    "제품 혹은 브랜드를 SNS에 광고하기 위한 문구를 생성해주세요.\n",
    "자극적이고 창의적으로 작성하세요.\n",
    "명사 위주로 간결하게 작성하세요.\n",
    "---\n",
    "제품명: {product_name}\n",
    "제품설명: {product_desc}\n",
    "---\n",
    "\"\"\".strip()"
   ]
  },
  {
   "cell_type": "code",
   "execution_count": 16,
   "id": "9cfffb2d-35d3-46b4-b8c4-ac07ea195d11",
   "metadata": {},
   "outputs": [],
   "source": [
    "prompt = prompt_template.format(\n",
    "    product_name=\"두찜\",\n",
    "    product_desc=\"MZ의 맛을 내는 신세대 찜닭\"\n",
    ")"
   ]
  },
  {
   "cell_type": "code",
   "execution_count": 17,
   "id": "854dd13b-d905-4105-844c-07872f331b36",
   "metadata": {},
   "outputs": [
    {
     "name": "stdout",
     "output_type": "stream",
     "text": [
      "🔥 #파격맛 #두찜\n",
      "✨ #신세대필수템\n",
      "💥 #찜닭혁명 #MZ취향저격  \n",
      "🌶️ #매운맛유발 #입맛돋우기  \n",
      "🔝 #최고일세 #입맛신세계  \n",
      "#두찜으로 #찜닭게임체인저"
     ]
    }
   ],
   "source": [
    "response = request_chat_completion(prompt, stream=True)\n",
    "print_streaming_response(response)"
   ]
  },
  {
   "cell_type": "code",
   "execution_count": 20,
   "id": "856f6314-1fdb-45aa-9303-e380d676271b",
   "metadata": {},
   "outputs": [],
   "source": [
    "prompt_template_v2 = \"\"\"\n",
    "제품 혹은 브랜드를 SNS에 광고하기 위한 문구를 {num} 개 생성해주세요.\n",
    "자극적이고 창의적으로 작성하세요.\n",
    "명사 위주로 간결하게 작성하세요.\n",
    "반드시 {max_length} 단어 이내로 작성해주세요.\n",
    "---\n",
    "제품명: {product_name}\n",
    "제품설명: {product_desc}\n",
    "---\n",
    "\"\"\".strip()"
   ]
  },
  {
   "cell_type": "code",
   "execution_count": 21,
   "id": "877e6a8c-cb93-4980-900a-a6015f985a80",
   "metadata": {},
   "outputs": [
    {
     "name": "stdout",
     "output_type": "stream",
     "text": [
      "제품 혹은 브랜드를 SNS에 광고하기 위한 문구를 5 개 생성해주세요.\n",
      "자극적이고 창의적으로 작성하세요.\n",
      "명사 위주로 간결하게 작성하세요.\n",
      "반드시 7 단어 이내로 작성해주세요.\n",
      "---\n",
      "제품명: 카누\n",
      "제품설명: 집에서도 카페 느낌의 아메리카노 맛을 내는 커피 믹스\n",
      "---\n"
     ]
    }
   ],
   "source": [
    "prompt = prompt_template_v2.format(\n",
    "    product_name=\"카누\",\n",
    "    product_desc=\"집에서도 카페 느낌의 아메리카노 맛을 내는 커피 믹스\",\n",
    "    num=5,\n",
    "    max_length=7\n",
    ")\n",
    "print(prompt)"
   ]
  },
  {
   "cell_type": "code",
   "execution_count": 22,
   "id": "8ec91118-121b-4c27-8ca9-9cd6035b0d7b",
   "metadata": {},
   "outputs": [
    {
     "name": "stdout",
     "output_type": "stream",
     "text": [
      "1. 집에서 즐기는 완벽한 카페 아메리카노!\n",
      "2. 아침을 깨우는 최고의 커피 혁명, 카누!\n",
      "3. 진짜 커피를 만나다, 카누의 매력!\n",
      "4. 카페 대신 카누, 당신의 완벽한 선택!\n",
      "5. 당신의 포근한 카페, 바로 카누!\n"
     ]
    }
   ],
   "source": [
    "response = request_chat_completion(prompt)\n",
    "generated_text = response[\"choices\"][0][\"message\"][\"content\"]\n",
    "print(generated_text)"
   ]
  },
  {
   "cell_type": "code",
   "execution_count": 23,
   "id": "ebaee3c3-6122-4d41-bc80-5ce0845c27ff",
   "metadata": {},
   "outputs": [],
   "source": [
    "prompt_template_v3 = \"\"\"\n",
    "제품 혹은 브랜드를 SNS에 광고하기 위한 문구를 {num}개 생성해주세요.\n",
    "자극적이고 창의적으로 작성하세요.\n",
    "명사 위주로 간결하게 작성하세요.\n",
    "반드시 {max_length} 단어 이내로 작성해주세요.\n",
    "키워드가 주어질 경우, 반드시 키워드 중 하나를 포함해야 합니다.\n",
    "---\n",
    "제품명: {product_name}\n",
    "제품설명: {product_desc}\n",
    "키워드: {keywords}\n",
    "---\n",
    "\"\"\".strip()"
   ]
  },
  {
   "cell_type": "code",
   "execution_count": 24,
   "id": "5c15f301-121c-42b7-99fc-7e0f663bd34e",
   "metadata": {},
   "outputs": [],
   "source": [
    "prompt = prompt_template_v3.format(\n",
    "    product_name=\"카누\",\n",
    "    product_desc=\"집에서도 카페 느낌의 아메리카노 맛을 내는 커피 믹스\",\n",
    "    num=5,\n",
    "    max_length=7,\n",
    "    keywords=[\"브라질\", \"풍미\", \"향기\"]\n",
    ")"
   ]
  },
  {
   "cell_type": "code",
   "execution_count": 25,
   "id": "f929ff2a-3047-4f8b-ab5d-8445e98ba757",
   "metadata": {},
   "outputs": [
    {
     "name": "stdout",
     "output_type": "stream",
     "text": [
      "1. 브라질 직수입, 카페 풍미 그대로!\n",
      "2. 향긋한 아로마, 카누의 특별함.\n",
      "3. 풍미 가득! 집에서 즐기는 카누.\n",
      "4. 브라질의 맛, 카누 한 잔으로!\n",
      "5. 향기로운 만남, 카누 아메리카노.\n"
     ]
    }
   ],
   "source": [
    "response = request_chat_completion(prompt)\n",
    "generated_text = response[\"choices\"][0][\"message\"][\"content\"]\n",
    "print(generated_text)"
   ]
  },
  {
   "cell_type": "code",
   "execution_count": 26,
   "id": "7c2bdf29-e4bc-4f06-8767-86a16632ccf1",
   "metadata": {},
   "outputs": [],
   "source": [
    "prompt_template_v4 = \"\"\"\n",
    "제품 혹은 브랜드를 SNS에 광고하기 위한 문구를 {num}개 생성해주세요.\n",
    "자극적이고 창의적으로 작성하세요.\n",
    "명사 위주로 간결하게 작성하세요.\n",
    "반드시 {max_length} 단어 이내로 작성해주세요.\n",
    "키워드가 주어질 경우, 반드시 키워드 중 하나를 포함해야 합니다.\n",
    "이모지를 적절하게 사용해주세요.\n",
    "---\n",
    "제품명: {product_name}\n",
    "제품설명: {product_desc}\n",
    "키워드: {keywords}\n",
    "---\n",
    "\"\"\".strip()"
   ]
  },
  {
   "cell_type": "code",
   "execution_count": 27,
   "id": "a509522f-40ca-47b0-a807-2bd319da4b09",
   "metadata": {},
   "outputs": [],
   "source": [
    "prompt = prompt_template_v3.format(\n",
    "    product_name=\"두찜\",\n",
    "    product_desc=\"MZ를 사로잡는 신세대 찜닭\",\n",
    "    num=10,\n",
    "    max_length=9,\n",
    "    keywords=[\"불닭\", \"럭키비키\"]\n",
    ")"
   ]
  },
  {
   "cell_type": "code",
   "execution_count": 28,
   "id": "6f8c5d9e-a3a6-4da2-bba5-1154d1abb362",
   "metadata": {},
   "outputs": [
    {
     "name": "stdout",
     "output_type": "stream",
     "text": [
      "1. \"불닭찜닭, MZ의 뜨거운 선택!\"\n",
      "2. \"럭키비키: 찜닭의 새로운 패러다임\"\n",
      "3. \"미친 매운 맛, 두찜 불닭 찜닭!\"\n",
      "4. \"럭키비키와 함께하는 두찜 체험!\"\n",
      "5. \"찜닭 혁명, 두찜 불닭 맛보세요!\"\n",
      "6. \"럭키비키 찜닭, 신세대 필수템!\"\n",
      "7. \"MZ가 선택한 찜닭, 두찜 불닭\"\n",
      "8. \"럭키비키, 두찜의 놀라운 변신\"\n",
      "9. \"불닭 찜닭, 이 맛을 놓치지 마세요!\"\n",
      "10. \"럭키비키 찜닭, 젊은 열정을 맛보세요\"\n"
     ]
    }
   ],
   "source": [
    "response = request_chat_completion(prompt)\n",
    "generated_text = response[\"choices\"][0][\"message\"][\"content\"]\n",
    "print(generated_text)"
   ]
  }
 ],
 "metadata": {
  "kernelspec": {
   "display_name": "Python 3 (ipykernel)",
   "language": "python",
   "name": "python3"
  },
  "language_info": {
   "codemirror_mode": {
    "name": "ipython",
    "version": 3
   },
   "file_extension": ".py",
   "mimetype": "text/x-python",
   "name": "python",
   "nbconvert_exporter": "python",
   "pygments_lexer": "ipython3",
   "version": "3.12.3"
  }
 },
 "nbformat": 4,
 "nbformat_minor": 5
}
